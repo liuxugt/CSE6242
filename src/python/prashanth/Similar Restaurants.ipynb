{
 "cells": [
  {
   "cell_type": "markdown",
   "metadata": {},
   "source": [
    "### Importing Modules required"
   ]
  },
  {
   "cell_type": "code",
   "execution_count": 31,
   "metadata": {},
   "outputs": [],
   "source": [
    "import pandas as pd\n",
    "import numpy as np\n",
    "from scipy import stats\n",
    "from collections import defaultdict"
   ]
  },
  {
   "cell_type": "markdown",
   "metadata": {},
   "source": [
    "### Importing the data"
   ]
  },
  {
   "cell_type": "code",
   "execution_count": 12,
   "metadata": {},
   "outputs": [],
   "source": [
    "raw_data = pd.read_csv('~/Documents/6242 Project/fall2018cse6242/data/phoenix_business_ws_rw_ffall_merged2.csv', skipinitialspace=True)\n",
    "\n",
    "\n",
    "# Dropping unecessary columns\n",
    "\n",
    "drop_cols = ['zipcode', 'zipcode.1', 'ffall_category', 'CuisineCombined']\n",
    "data = raw_data.drop(columns=drop_cols)"
   ]
  },
  {
   "cell_type": "code",
   "execution_count": 63,
   "metadata": {},
   "outputs": [],
   "source": [
    "test = data\n",
    "test = test.set_index('business_id')"
   ]
  },
  {
   "cell_type": "markdown",
   "metadata": {},
   "source": [
    "### Using Cosine Similary to find similar Restaurants"
   ]
  },
  {
   "cell_type": "code",
   "execution_count": 64,
   "metadata": {},
   "outputs": [],
   "source": [
    "def cos_sim(a, b):\n",
    "    \"\"\"Takes 2 vectors a, b and returns the cosine similarity according \n",
    "    to the definition of the dot product\n",
    "    \"\"\"\n",
    "    dot_product = np.dot(a, b)\n",
    "    norm_a = np.linalg.norm(a)\n",
    "    norm_b = np.linalg.norm(b)\n",
    "    return dot_product / (norm_a * norm_b)"
   ]
  },
  {
   "cell_type": "code",
   "execution_count": 65,
   "metadata": {},
   "outputs": [],
   "source": [
    "sim_matrix = defaultdict(dict)\n",
    "for i, row1 in test.iterrows():\n",
    "    for j, row2 in test.iterrows():\n",
    "        sim_matrix[i][j] = cos_sim(row1, row2)"
   ]
  },
  {
   "cell_type": "code",
   "execution_count": 58,
   "metadata": {},
   "outputs": [],
   "source": [
    "def similar_rest(rest_id, n):\n",
    "    x = sim_matrix[rest_id]\n",
    "    similar_list = sorted(x.items(), key=lambda kv: -kv[1])[1:n+1]\n",
    "    return list(dict(similar_list).keys())"
   ]
  },
  {
   "cell_type": "code",
   "execution_count": 59,
   "metadata": {},
   "outputs": [],
   "source": []
  },
  {
   "cell_type": "code",
   "execution_count": 60,
   "metadata": {},
   "outputs": [
    {
     "data": {
      "text/plain": [
       "['_c3ixq9jYKxhLUB0czi0ug',\n",
       " 'cKRMmytHxaSt8F0SMEzKqg',\n",
       " 'CeuTRtwsq6w5rztGOyNMPg',\n",
       " '3ByGQOVgds2YEu6kzl-XEQ',\n",
       " 'AcGRSWCpb7YB95MTsHlGEw']"
      ]
     },
     "execution_count": 60,
     "metadata": {},
     "output_type": "execute_result"
    }
   ],
   "source": []
  },
  {
   "cell_type": "code",
   "execution_count": 67,
   "metadata": {},
   "outputs": [
    {
     "data": {
      "text/plain": [
       "['1rebduwtmrHQhl32djRS7A',\n",
       " 'jHIJ0hfy5USIWvcdynzrFQ',\n",
       " 'nYpxA8exNB1VPuM7XYS7fg',\n",
       " 'uZ0C261kg1YgvTMTEmIL0Q',\n",
       " 'L_9g6y_EJqJ7A7nJMV9rmA',\n",
       " 'JkzqS4JDOpoHrj534rzvAA',\n",
       " 'm4yD7dvz998cXM51GbRL_Q',\n",
       " '1JF9TbJ2d5hH8xsQvvklHg',\n",
       " 'sS__otwzn0INyR_5Dimfdg',\n",
       " 'pHd7QUYFmIt4E4irprwbuw']"
      ]
     },
     "execution_count": 67,
     "metadata": {},
     "output_type": "execute_result"
    }
   ],
   "source": [
    "similar_rest('_c3ixq9jYKxhLUB0czi0ug', 10)"
   ]
  },
  {
   "cell_type": "code",
   "execution_count": null,
   "metadata": {},
   "outputs": [],
   "source": []
  }
 ],
 "metadata": {
  "kernelspec": {
   "display_name": "Python 3",
   "language": "python",
   "name": "python3"
  },
  "language_info": {
   "codemirror_mode": {
    "name": "ipython",
    "version": 3
   },
   "file_extension": ".py",
   "mimetype": "text/x-python",
   "name": "python",
   "nbconvert_exporter": "python",
   "pygments_lexer": "ipython3",
   "version": "3.6.6"
  }
 },
 "nbformat": 4,
 "nbformat_minor": 2
}
