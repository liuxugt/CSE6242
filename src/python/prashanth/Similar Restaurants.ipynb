{
 "cells": [
  {
   "cell_type": "markdown",
   "metadata": {},
   "source": [
    "### Importing Modules required"
   ]
  },
  {
   "cell_type": "code",
   "execution_count": 50,
   "metadata": {},
   "outputs": [],
   "source": [
    "import pandas as pd\n",
    "import numpy as np\n",
    "from scipy import stats\n",
    "from collections import defaultdict\n",
    "from sklearn.metrics.pairwise import cosine_similarity"
   ]
  },
  {
   "cell_type": "markdown",
   "metadata": {},
   "source": [
    "### Importing the data"
   ]
  },
  {
   "cell_type": "code",
   "execution_count": 3,
   "metadata": {},
   "outputs": [],
   "source": [
    "raw_data = pd.read_csv('~/Documents/6242 Project/fall2018cse6242/data/phoenix_business_ws_rw_ffall_merged2.csv', skipinitialspace=True)\n",
    "\n",
    " \n",
    "# Dropping unecessary columns\n",
    "\n",
    "drop_cols = ['zipcode', 'zipcode.1', 'ffall_category', 'CuisineCombined']\n",
    "data = raw_data.drop(columns=drop_cols)"
   ]
  },
  {
   "cell_type": "code",
   "execution_count": 4,
   "metadata": {},
   "outputs": [],
   "source": [
    "test = data\n",
    "test = test.set_index('business_id')"
   ]
  },
  {
   "cell_type": "markdown",
   "metadata": {},
   "source": [
    "### Using Cosine Similary to find similar Restaurants"
   ]
  },
  {
   "cell_type": "code",
   "execution_count": 16,
   "metadata": {},
   "outputs": [],
   "source": [
    "def cos_sim(a, b):\n",
    "    \"\"\"Takes 2 vectors a, b and returns the cosine similarity according \n",
    "    to the definition of the dot product\n",
    "    \"\"\"\n",
    "    dot_product = np.dot(a, b)\n",
    "    norm_a = np.linalg.norm(a)\n",
    "    norm_b = np.linalg.norm(b)\n",
    "    return dot_product / (norm_a * norm_b)"
   ]
  },
  {
   "cell_type": "code",
   "execution_count": 65,
   "metadata": {},
   "outputs": [],
   "source": [
    "# sim_matrix = defaultdict(dict)\n",
    "# for i, row1 in test.iterrows():\n",
    "#     for j, row2 in test.iterrows():\n",
    "#         sim_matrix[i][j] = cos_sim(row1, row2)"
   ]
  },
  {
   "cell_type": "code",
   "execution_count": 58,
   "metadata": {},
   "outputs": [],
   "source": [
    "# def similar_rest(rest_id, n):\n",
    "#     x = sim_matrix[rest_id]\n",
    "#     similar_list = sorted(x.items(), key=lambda kv: -kv[1])[1:n+1]\n",
    "#     return list(dict(similar_list).keys())"
   ]
  },
  {
   "cell_type": "code",
   "execution_count": null,
   "metadata": {},
   "outputs": [],
   "source": []
  },
  {
   "cell_type": "code",
   "execution_count": 46,
   "metadata": {},
   "outputs": [],
   "source": [
    "df = test\n",
    "def similar_restaurants(restaurant_id):\n",
    "    sim_score = defaultdict()\n",
    "    out = []\n",
    "    a = df.loc[restaurant_id]\n",
    "    for biz_id, row in df.iterrows():\n",
    "        sim_score[biz_id] = cos_sim(a, row)\n",
    "    sim_list = sorted(sim_score.items(), key=lambda kv: -kv[1])[1:10+1]\n",
    "    \n",
    "    for (x, y) in sim_list:\n",
    "        out.append(x)\n",
    "    return out"
   ]
  },
  {
   "cell_type": "code",
   "execution_count": 60,
   "metadata": {},
   "outputs": [],
   "source": [
    "b_id = 'baIT89GubjGJV1mpn82Eeg'\n",
    "out = similar_restaurants(b_id)"
   ]
  },
  {
   "cell_type": "code",
   "execution_count": 61,
   "metadata": {},
   "outputs": [
    {
     "name": "stdout",
     "output_type": "stream",
     "text": [
      "similar restaurants for https://www.yelp.com/biz/baIT89GubjGJV1mpn82Eeg are: \n",
      "\n",
      "https://www.yelp.com/biz/Yol50D2sHVAmbBMAKeLMAQ\n",
      "https://www.yelp.com/biz/HNy2_rt86gfZMCM4qsVvFw\n",
      "https://www.yelp.com/biz/uP_mkj1Z3aQ3MY2oNgId3Q\n",
      "https://www.yelp.com/biz/TIP1ZWjhAoJwpsNmpneAiQ\n",
      "https://www.yelp.com/biz/eVsO9Bx4-fty-uTzWdZKHg\n",
      "https://www.yelp.com/biz/QCnT5MdeWrbZ2SjvDY4_cQ\n",
      "https://www.yelp.com/biz/0zr7FB0nnZXJmwb94yTbJQ\n",
      "https://www.yelp.com/biz/2GEr8-FpENQQPdmCrIWMYw\n",
      "https://www.yelp.com/biz/HpQGK9qazX51JhlWlH76cw\n",
      "https://www.yelp.com/biz/JzNkCTqm4ukh4djWRNd2rg\n"
     ]
    }
   ],
   "source": [
    "print('similar restaurants for https://www.yelp.com/biz/'+b_id+' are: \\n')\n",
    "for each in out:\n",
    "    \n",
    "    print('https://www.yelp.com/biz/'+each)"
   ]
  },
  {
   "cell_type": "code",
   "execution_count": 62,
   "metadata": {},
   "outputs": [
    {
     "data": {
      "text/plain": [
       "Index(['Mexican', 'American (Traditional)', 'Pizza', 'American (New)',\n",
       "       'Burgers', 'Italian', 'Chinese', 'Salad', 'Sports Bars', 'Seafood',\n",
       "       'Japanese', 'Barbeque', 'Mediterranean', 'Sushi Bars', 'Asian Fusion',\n",
       "       'Steakhouses', 'Greek', 'Tex-Mex', 'Thai', 'Vietnamese', 'Indian',\n",
       "       'Middle Eastern', 'Southern', 'Latin American', 'Hawaiian', 'Korean',\n",
       "       'French', 'Caribbean', 'Pakistani', 'Ramen', 'New Mexican Cuisine',\n",
       "       'Modern European', 'Spanish', 'African', 'Cantonese', 'Persian/Iranian',\n",
       "       'Filipino', 'Cuban', 'Mongolian', 'Lebanese', 'Polish', 'Taiwanese',\n",
       "       'German', 'Turkish', 'Ethiopian', 'Brazilian', 'Afghan', 'total_pop',\n",
       "       'occupied_housing_units', 'white_pop', 'afam_pop', 'amindian_pop',\n",
       "       'asian_pop', 'hawaiian_pop', 'other_race', 'male', 'female',\n",
       "       'median_income', 'median_age', 'under_18', 'above_18', 'walkscore',\n",
       "       'ffall', 'stars', 'review_count'],\n",
       "      dtype='object')"
      ]
     },
     "execution_count": 62,
     "metadata": {},
     "output_type": "execute_result"
    }
   ],
   "source": [
    "df.columns"
   ]
  },
  {
   "cell_type": "code",
   "execution_count": null,
   "metadata": {},
   "outputs": [],
   "source": []
  }
 ],
 "metadata": {
  "kernelspec": {
   "display_name": "Python 3",
   "language": "python",
   "name": "python3"
  },
  "language_info": {
   "codemirror_mode": {
    "name": "ipython",
    "version": 3
   },
   "file_extension": ".py",
   "mimetype": "text/x-python",
   "name": "python",
   "nbconvert_exporter": "python",
   "pygments_lexer": "ipython3",
   "version": "3.6.6"
  }
 },
 "nbformat": 4,
 "nbformat_minor": 2
}
