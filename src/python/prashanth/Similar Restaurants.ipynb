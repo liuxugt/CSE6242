{
 "cells": [
  {
   "cell_type": "markdown",
   "metadata": {},
   "source": [
    "### Importing Modules required"
   ]
  },
  {
   "cell_type": "code",
   "execution_count": 50,
   "metadata": {},
   "outputs": [],
   "source": [
    "import pandas as pd\n",
    "import numpy as np\n",
    "from scipy import stats\n",
    "from collections import defaultdict\n",
    "from sklearn.metrics.pairwise import cosine_similarity"
   ]
  },
  {
   "cell_type": "markdown",
   "metadata": {},
   "source": [
    "### Importing the data"
   ]
  },
  {
   "cell_type": "code",
   "execution_count": 3,
   "metadata": {},
   "outputs": [],
   "source": [
    "raw_data = pd.read_csv('~/Documents/6242 Project/fall2018cse6242/data/phoenix_business_ws_rw_ffall_merged2.csv', skipinitialspace=True)\n",
    "\n",
    "\n",
    "# Dropping unecessary columns\n",
    "\n",
    "drop_cols = ['zipcode', 'zipcode.1', 'ffall_category', 'CuisineCombined']\n",
    "data = raw_data.drop(columns=drop_cols)"
   ]
  },
  {
   "cell_type": "code",
   "execution_count": 4,
   "metadata": {},
   "outputs": [],
   "source": [
    "test = data\n",
    "test = test.set_index('business_id')"
   ]
  },
  {
   "cell_type": "markdown",
   "metadata": {},
   "source": [
    "### Using Cosine Similary to find similar Restaurants"
   ]
  },
  {
   "cell_type": "code",
   "execution_count": 16,
   "metadata": {},
   "outputs": [],
   "source": [
    "def cos_sim(a, b):\n",
    "    \"\"\"Takes 2 vectors a, b and returns the cosine similarity according \n",
    "    to the definition of the dot product\n",
    "    \"\"\"\n",
    "    dot_product = np.dot(a, b)\n",
    "    norm_a = np.linalg.norm(a)\n",
    "    norm_b = np.linalg.norm(b)\n",
    "    return dot_product / (norm_a * norm_b)"
   ]
  },
  {
   "cell_type": "code",
   "execution_count": 65,
   "metadata": {},
   "outputs": [],
   "source": [
    "# sim_matrix = defaultdict(dict)\n",
    "# for i, row1 in test.iterrows():\n",
    "#     for j, row2 in test.iterrows():\n",
    "#         sim_matrix[i][j] = cos_sim(row1, row2)"
   ]
  },
  {
   "cell_type": "code",
   "execution_count": 58,
   "metadata": {},
   "outputs": [],
   "source": [
    "# def similar_rest(rest_id, n):\n",
    "#     x = sim_matrix[rest_id]\n",
    "#     similar_list = sorted(x.items(), key=lambda kv: -kv[1])[1:n+1]\n",
    "#     return list(dict(similar_list).keys())"
   ]
  },
  {
   "cell_type": "code",
   "execution_count": null,
   "metadata": {},
   "outputs": [],
   "source": []
  },
  {
   "cell_type": "code",
   "execution_count": 46,
   "metadata": {},
   "outputs": [],
   "source": [
    "df = test\n",
    "def similar_restaurants(restaurant_id):\n",
    "    sim_score = defaultdict()\n",
    "    out = []\n",
    "    a = df.loc[restaurant_id]\n",
    "    for biz_id, row in df.iterrows():\n",
    "        sim_score[biz_id] = cos_sim(a, row)\n",
    "    sim_list = sorted(sim_score.items(), key=lambda kv: -kv[1])[1:10+1]\n",
    "    \n",
    "    for (x, y) in sim_list:\n",
    "        out.append(x)\n",
    "    return out"
   ]
  },
  {
   "cell_type": "code",
   "execution_count": 48,
   "metadata": {},
   "outputs": [],
   "source": [
    "out = similar_restaurants('_c3ixq9jYKxhLUB0czi0ug')"
   ]
  },
  {
   "cell_type": "code",
   "execution_count": 49,
   "metadata": {},
   "outputs": [
    {
     "name": "stdout",
     "output_type": "stream",
     "text": [
      "https://www.yelp.com/biz/1rebduwtmrHQhl32djRS7A\n",
      "https://www.yelp.com/biz/jHIJ0hfy5USIWvcdynzrFQ\n",
      "https://www.yelp.com/biz/nYpxA8exNB1VPuM7XYS7fg\n",
      "https://www.yelp.com/biz/uZ0C261kg1YgvTMTEmIL0Q\n",
      "https://www.yelp.com/biz/L_9g6y_EJqJ7A7nJMV9rmA\n",
      "https://www.yelp.com/biz/JkzqS4JDOpoHrj534rzvAA\n",
      "https://www.yelp.com/biz/m4yD7dvz998cXM51GbRL_Q\n",
      "https://www.yelp.com/biz/1JF9TbJ2d5hH8xsQvvklHg\n",
      "https://www.yelp.com/biz/sS__otwzn0INyR_5Dimfdg\n",
      "https://www.yelp.com/biz/pHd7QUYFmIt4E4irprwbuw\n"
     ]
    }
   ],
   "source": [
    "for each in out:\n",
    "    print('https://www.yelp.com/biz/'+each)"
   ]
  },
  {
   "cell_type": "code",
   "execution_count": null,
   "metadata": {},
   "outputs": [],
   "source": []
  }
 ],
 "metadata": {
  "kernelspec": {
   "display_name": "Python 3",
   "language": "python",
   "name": "python3"
  },
  "language_info": {
   "codemirror_mode": {
    "name": "ipython",
    "version": 3
   },
   "file_extension": ".py",
   "mimetype": "text/x-python",
   "name": "python",
   "nbconvert_exporter": "python",
   "pygments_lexer": "ipython3",
   "version": "3.6.6"
  }
 },
 "nbformat": 4,
 "nbformat_minor": 2
}
