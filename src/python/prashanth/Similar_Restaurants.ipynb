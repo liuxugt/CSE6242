{
 "cells": [
  {
   "cell_type": "markdown",
   "metadata": {},
   "source": [
    "### Importing Modules required"
   ]
  },
  {
   "cell_type": "code",
   "execution_count": 121,
   "metadata": {},
   "outputs": [],
   "source": [
    "import pandas as pd\n",
    "import numpy as np\n",
    "from scipy import stats\n",
    "from collections import defaultdict\n",
    "from sklearn.metrics.pairwise import cosine_similarity"
   ]
  },
  {
   "cell_type": "markdown",
   "metadata": {},
   "source": [
    "### Importing the data"
   ]
  },
  {
   "cell_type": "code",
   "execution_count": 122,
   "metadata": {},
   "outputs": [],
   "source": [
    "raw_data2 = pd.read_csv('~/Documents/6242 Project/fall2018cse6242/data/phoenix_business_ws_rw_ffall_merged2.csv', skipinitialspace=True)"
   ]
  },
  {
   "cell_type": "code",
   "execution_count": 123,
   "metadata": {},
   "outputs": [
    {
     "data": {
      "text/html": [
       "<div>\n",
       "<style scoped>\n",
       "    .dataframe tbody tr th:only-of-type {\n",
       "        vertical-align: middle;\n",
       "    }\n",
       "\n",
       "    .dataframe tbody tr th {\n",
       "        vertical-align: top;\n",
       "    }\n",
       "\n",
       "    .dataframe thead th {\n",
       "        text-align: right;\n",
       "    }\n",
       "</style>\n",
       "<table border=\"1\" class=\"dataframe\">\n",
       "  <thead>\n",
       "    <tr style=\"text-align: right;\">\n",
       "      <th></th>\n",
       "      <th>business_id</th>\n",
       "      <th>Mexican</th>\n",
       "      <th>American (Traditional)</th>\n",
       "      <th>Pizza</th>\n",
       "      <th>American (New)</th>\n",
       "      <th>Burgers</th>\n",
       "      <th>Italian</th>\n",
       "      <th>Chinese</th>\n",
       "      <th>Salad</th>\n",
       "      <th>Sports Bars</th>\n",
       "      <th>...</th>\n",
       "      <th>afam_pop</th>\n",
       "      <th>amindian_pop</th>\n",
       "      <th>asian_pop</th>\n",
       "      <th>hawaiian_pop</th>\n",
       "      <th>other_race</th>\n",
       "      <th>median_income</th>\n",
       "      <th>median_age</th>\n",
       "      <th>walkscore</th>\n",
       "      <th>ffall</th>\n",
       "      <th>stars</th>\n",
       "    </tr>\n",
       "  </thead>\n",
       "  <tbody>\n",
       "    <tr>\n",
       "      <th>0</th>\n",
       "      <td>_c3ixq9jYKxhLUB0czi0ug</td>\n",
       "      <td>0</td>\n",
       "      <td>0</td>\n",
       "      <td>0</td>\n",
       "      <td>0</td>\n",
       "      <td>1</td>\n",
       "      <td>0</td>\n",
       "      <td>0</td>\n",
       "      <td>0</td>\n",
       "      <td>1</td>\n",
       "      <td>...</td>\n",
       "      <td>1880</td>\n",
       "      <td>440</td>\n",
       "      <td>313</td>\n",
       "      <td>17</td>\n",
       "      <td>3479</td>\n",
       "      <td>27557</td>\n",
       "      <td>35.0</td>\n",
       "      <td>60.0</td>\n",
       "      <td>987</td>\n",
       "      <td>4.0</td>\n",
       "    </tr>\n",
       "    <tr>\n",
       "      <th>1</th>\n",
       "      <td>3ByGQOVgds2YEu6kzl-XEQ</td>\n",
       "      <td>0</td>\n",
       "      <td>1</td>\n",
       "      <td>0</td>\n",
       "      <td>0</td>\n",
       "      <td>0</td>\n",
       "      <td>0</td>\n",
       "      <td>0</td>\n",
       "      <td>0</td>\n",
       "      <td>1</td>\n",
       "      <td>...</td>\n",
       "      <td>2716</td>\n",
       "      <td>920</td>\n",
       "      <td>444</td>\n",
       "      <td>67</td>\n",
       "      <td>18109</td>\n",
       "      <td>35571</td>\n",
       "      <td>25.0</td>\n",
       "      <td>43.0</td>\n",
       "      <td>12</td>\n",
       "      <td>2.5</td>\n",
       "    </tr>\n",
       "    <tr>\n",
       "      <th>2</th>\n",
       "      <td>CeuTRtwsq6w5rztGOyNMPg</td>\n",
       "      <td>1</td>\n",
       "      <td>0</td>\n",
       "      <td>0</td>\n",
       "      <td>0</td>\n",
       "      <td>0</td>\n",
       "      <td>0</td>\n",
       "      <td>0</td>\n",
       "      <td>0</td>\n",
       "      <td>0</td>\n",
       "      <td>...</td>\n",
       "      <td>2716</td>\n",
       "      <td>920</td>\n",
       "      <td>444</td>\n",
       "      <td>67</td>\n",
       "      <td>18109</td>\n",
       "      <td>35571</td>\n",
       "      <td>25.0</td>\n",
       "      <td>43.0</td>\n",
       "      <td>20</td>\n",
       "      <td>2.5</td>\n",
       "    </tr>\n",
       "    <tr>\n",
       "      <th>3</th>\n",
       "      <td>AcGRSWCpb7YB95MTsHlGEw</td>\n",
       "      <td>0</td>\n",
       "      <td>0</td>\n",
       "      <td>1</td>\n",
       "      <td>0</td>\n",
       "      <td>0</td>\n",
       "      <td>0</td>\n",
       "      <td>0</td>\n",
       "      <td>0</td>\n",
       "      <td>0</td>\n",
       "      <td>...</td>\n",
       "      <td>2716</td>\n",
       "      <td>920</td>\n",
       "      <td>444</td>\n",
       "      <td>67</td>\n",
       "      <td>18109</td>\n",
       "      <td>35571</td>\n",
       "      <td>25.0</td>\n",
       "      <td>43.0</td>\n",
       "      <td>3</td>\n",
       "      <td>2.0</td>\n",
       "    </tr>\n",
       "    <tr>\n",
       "      <th>4</th>\n",
       "      <td>cKRMmytHxaSt8F0SMEzKqg</td>\n",
       "      <td>1</td>\n",
       "      <td>0</td>\n",
       "      <td>0</td>\n",
       "      <td>0</td>\n",
       "      <td>0</td>\n",
       "      <td>0</td>\n",
       "      <td>0</td>\n",
       "      <td>1</td>\n",
       "      <td>0</td>\n",
       "      <td>...</td>\n",
       "      <td>1211</td>\n",
       "      <td>507</td>\n",
       "      <td>1051</td>\n",
       "      <td>58</td>\n",
       "      <td>3705</td>\n",
       "      <td>51483</td>\n",
       "      <td>34.8</td>\n",
       "      <td>36.0</td>\n",
       "      <td>840</td>\n",
       "      <td>3.5</td>\n",
       "    </tr>\n",
       "  </tbody>\n",
       "</table>\n",
       "<p>5 rows × 61 columns</p>\n",
       "</div>"
      ],
      "text/plain": [
       "              business_id  Mexican  American (Traditional)  Pizza  \\\n",
       "0  _c3ixq9jYKxhLUB0czi0ug        0                       0      0   \n",
       "1  3ByGQOVgds2YEu6kzl-XEQ        0                       1      0   \n",
       "2  CeuTRtwsq6w5rztGOyNMPg        1                       0      0   \n",
       "3  AcGRSWCpb7YB95MTsHlGEw        0                       0      1   \n",
       "4  cKRMmytHxaSt8F0SMEzKqg        1                       0      0   \n",
       "\n",
       "   American (New)  Burgers  Italian  Chinese  Salad  Sports Bars  ...    \\\n",
       "0               0        1        0        0      0            1  ...     \n",
       "1               0        0        0        0      0            1  ...     \n",
       "2               0        0        0        0      0            0  ...     \n",
       "3               0        0        0        0      0            0  ...     \n",
       "4               0        0        0        0      1            0  ...     \n",
       "\n",
       "   afam_pop  amindian_pop  asian_pop  hawaiian_pop  other_race  median_income  \\\n",
       "0      1880           440        313            17        3479          27557   \n",
       "1      2716           920        444            67       18109          35571   \n",
       "2      2716           920        444            67       18109          35571   \n",
       "3      2716           920        444            67       18109          35571   \n",
       "4      1211           507       1051            58        3705          51483   \n",
       "\n",
       "   median_age  walkscore  ffall  stars  \n",
       "0        35.0       60.0    987    4.0  \n",
       "1        25.0       43.0     12    2.5  \n",
       "2        25.0       43.0     20    2.5  \n",
       "3        25.0       43.0      3    2.0  \n",
       "4        34.8       36.0    840    3.5  \n",
       "\n",
       "[5 rows x 61 columns]"
      ]
     },
     "execution_count": 123,
     "metadata": {},
     "output_type": "execute_result"
    }
   ],
   "source": [
    "# Dropping unecessary columns\n",
    "\n",
    "drop_cols = ['zipcode', 'zipcode.1', 'ffall_category', 'CuisineCombined', 'male', 'female', 'under_18', 'above_18', 'review_count']\n",
    "data = raw_data2.drop(columns=drop_cols)\n",
    "data.head()"
   ]
  },
  {
   "cell_type": "code",
   "execution_count": 124,
   "metadata": {},
   "outputs": [],
   "source": [
    "data = data.set_index('business_id')\n",
    "# data = data.apply(lambda x: (x - np.mean(x)) / np.std(x), axis=0)\n"
   ]
  },
  {
   "cell_type": "code",
   "execution_count": 125,
   "metadata": {},
   "outputs": [],
   "source": [
    "data = data.apply(lambda x: x / np.max(x), axis=0)\n",
    "\n"
   ]
  },
  {
   "cell_type": "code",
   "execution_count": 126,
   "metadata": {},
   "outputs": [
    {
     "data": {
      "text/plain": [
       "Index(['Mexican', 'American (Traditional)', 'Pizza', 'American (New)',\n",
       "       'Burgers', 'Italian', 'Chinese', 'Salad', 'Sports Bars', 'Seafood',\n",
       "       'Japanese', 'Barbeque', 'Mediterranean', 'Sushi Bars', 'Asian Fusion',\n",
       "       'Steakhouses', 'Greek', 'Tex-Mex', 'Thai', 'Vietnamese', 'Indian',\n",
       "       'Middle Eastern', 'Southern', 'Latin American', 'Hawaiian', 'Korean',\n",
       "       'French', 'Caribbean', 'Pakistani', 'Ramen', 'New Mexican Cuisine',\n",
       "       'Modern European', 'Spanish', 'African', 'Cantonese', 'Persian/Iranian',\n",
       "       'Filipino', 'Cuban', 'Mongolian', 'Lebanese', 'Polish', 'Taiwanese',\n",
       "       'German', 'Turkish', 'Ethiopian', 'Brazilian', 'Afghan', 'total_pop',\n",
       "       'occupied_housing_units', 'white_pop', 'afam_pop', 'amindian_pop',\n",
       "       'asian_pop', 'hawaiian_pop', 'other_race', 'median_income',\n",
       "       'median_age', 'walkscore', 'ffall', 'stars'],\n",
       "      dtype='object')"
      ]
     },
     "execution_count": 126,
     "metadata": {},
     "output_type": "execute_result"
    }
   ],
   "source": [
    "data.columns"
   ]
  },
  {
   "cell_type": "code",
   "execution_count": null,
   "metadata": {},
   "outputs": [],
   "source": []
  },
  {
   "cell_type": "markdown",
   "metadata": {},
   "source": [
    "### Using Cosine Similary to find similar Restaurants"
   ]
  },
  {
   "cell_type": "code",
   "execution_count": 127,
   "metadata": {},
   "outputs": [],
   "source": [
    "def cos_sim(a, b):\n",
    "    \"\"\"Takes 2 vectors a, b and returns the cosine similarity according \n",
    "    to the definition of the dot product\n",
    "    \"\"\"\n",
    "    dot_product = np.dot(a, b)\n",
    "    norm_a = np.linalg.norm(a)\n",
    "    norm_b = np.linalg.norm(b)\n",
    "    return dot_product / (norm_a * norm_b)"
   ]
  },
  {
   "cell_type": "code",
   "execution_count": 128,
   "metadata": {},
   "outputs": [],
   "source": [
    "# sim_matrix = defaultdict(dict)\n",
    "# for i, row1 in test.iterrows():\n",
    "#     for j, row2 in test.iterrows():\n",
    "#         sim_matrix[i][j] = cos_sim(row1, row2)"
   ]
  },
  {
   "cell_type": "code",
   "execution_count": 129,
   "metadata": {},
   "outputs": [],
   "source": [
    "# def similar_rest(rest_id, n):\n",
    "#     x = sim_matrix[rest_id]\n",
    "#     similar_list = sorted(x.items(), key=lambda kv: -kv[1])[1:n+1]\n",
    "#     return list(dict(similar_list).keys())"
   ]
  },
  {
   "cell_type": "code",
   "execution_count": null,
   "metadata": {},
   "outputs": [],
   "source": []
  },
  {
   "cell_type": "code",
   "execution_count": 134,
   "metadata": {},
   "outputs": [],
   "source": [
    "df = data\n",
    "def similar_restaurants(restaurant_id, n):\n",
    "    sim_score = defaultdict()\n",
    "    out = []\n",
    "    a = df.loc[restaurant_id]\n",
    "    for biz_id, row in df.iterrows():\n",
    "        sim_score[biz_id] = cos_sim(a, row)\n",
    "    sim_list = sorted(sim_score.items(), key=lambda kv: -kv[1])[1:n+1]\n",
    "    \n",
    "    for (x, y) in sim_list:\n",
    "        out.append(x)\n",
    "    return out"
   ]
  },
  {
   "cell_type": "code",
   "execution_count": 132,
   "metadata": {},
   "outputs": [
    {
     "data": {
      "text/plain": [
       "['Bonny62rswQQ6-sC1DpOrA',\n",
       " '1kDS1homhHy0gr5N95oGzw',\n",
       " 'dnBQZpWTyJzTe0QJf7YK5w',\n",
       " 'Sg36zmOvyPAmuz6vME56Vw',\n",
       " 'dq4c_0btrrdcz_Nq6RV02g',\n",
       " 'HJFKqzhV4n4ZWepneOzFhQ']"
      ]
     },
     "execution_count": 132,
     "metadata": {},
     "output_type": "execute_result"
    }
   ],
   "source": [
    "b_id = '_c3ixq9jYKxhLUB0czi0ug'\n",
    "out = similar_restaurants(b_id, 6)\n",
    "out"
   ]
  },
  {
   "cell_type": "code",
   "execution_count": 108,
   "metadata": {},
   "outputs": [
    {
     "name": "stdout",
     "output_type": "stream",
     "text": [
      "similar restaurants for https://www.yelp.com/biz/_c3ixq9jYKxhLUB0czi0ug are: \n",
      "\n",
      "https://www.yelp.com/biz/Bonny62rswQQ6-sC1DpOrA\n",
      "https://www.yelp.com/biz/1kDS1homhHy0gr5N95oGzw\n",
      "https://www.yelp.com/biz/dnBQZpWTyJzTe0QJf7YK5w\n",
      "https://www.yelp.com/biz/Sg36zmOvyPAmuz6vME56Vw\n",
      "https://www.yelp.com/biz/dq4c_0btrrdcz_Nq6RV02g\n"
     ]
    }
   ],
   "source": [
    "print('similar restaurants for https://www.yelp.com/biz/'+b_id+' are: \\n')\n",
    "for each in out:\n",
    "    \n",
    "    print('https://www.yelp.com/biz/'+each)\n",
    "    \n",
    "    "
   ]
  },
  {
   "cell_type": "code",
   "execution_count": 62,
   "metadata": {},
   "outputs": [
    {
     "data": {
      "text/plain": [
       "Index(['Mexican', 'American (Traditional)', 'Pizza', 'American (New)',\n",
       "       'Burgers', 'Italian', 'Chinese', 'Salad', 'Sports Bars', 'Seafood',\n",
       "       'Japanese', 'Barbeque', 'Mediterranean', 'Sushi Bars', 'Asian Fusion',\n",
       "       'Steakhouses', 'Greek', 'Tex-Mex', 'Thai', 'Vietnamese', 'Indian',\n",
       "       'Middle Eastern', 'Southern', 'Latin American', 'Hawaiian', 'Korean',\n",
       "       'French', 'Caribbean', 'Pakistani', 'Ramen', 'New Mexican Cuisine',\n",
       "       'Modern European', 'Spanish', 'African', 'Cantonese', 'Persian/Iranian',\n",
       "       'Filipino', 'Cuban', 'Mongolian', 'Lebanese', 'Polish', 'Taiwanese',\n",
       "       'German', 'Turkish', 'Ethiopian', 'Brazilian', 'Afghan', 'total_pop',\n",
       "       'occupied_housing_units', 'white_pop', 'afam_pop', 'amindian_pop',\n",
       "       'asian_pop', 'hawaiian_pop', 'other_race', 'male', 'female',\n",
       "       'median_income', 'median_age', 'under_18', 'above_18', 'walkscore',\n",
       "       'ffall', 'stars', 'review_count'],\n",
       "      dtype='object')"
      ]
     },
     "execution_count": 62,
     "metadata": {},
     "output_type": "execute_result"
    }
   ],
   "source": []
  },
  {
   "cell_type": "code",
   "execution_count": null,
   "metadata": {},
   "outputs": [],
   "source": []
  }
 ],
 "metadata": {
  "kernelspec": {
   "display_name": "Python 3",
   "language": "python",
   "name": "python3"
  },
  "language_info": {
   "codemirror_mode": {
    "name": "ipython",
    "version": 3
   },
   "file_extension": ".py",
   "mimetype": "text/x-python",
   "name": "python",
   "nbconvert_exporter": "python",
   "pygments_lexer": "ipython3",
   "version": "3.6.6"
  }
 },
 "nbformat": 4,
 "nbformat_minor": 2
}
