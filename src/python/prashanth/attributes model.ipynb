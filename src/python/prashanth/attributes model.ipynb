{
 "cells": [
  {
   "cell_type": "markdown",
   "metadata": {},
   "source": [
    "## Modelling the attributes of Restaurants"
   ]
  },
  {
   "cell_type": "code",
   "execution_count": 187,
   "metadata": {},
   "outputs": [],
   "source": [
    "import pandas as pd\n",
    "import json\n",
    "import csv\n",
    "from collections import defaultdict\n",
    "import matplotlib.pyplot as plt\n",
    "%matplotlib inline"
   ]
  },
  {
   "cell_type": "markdown",
   "metadata": {},
   "source": [
    "#### Reading the data"
   ]
  },
  {
   "cell_type": "code",
   "execution_count": 169,
   "metadata": {},
   "outputs": [],
   "source": [
    "raw_data = pd.read_csv('~/Documents/6242 Project/fall2018cse6242/data/arizona_business_details.csv', skipinitialspace=True)"
   ]
  },
  {
   "cell_type": "markdown",
   "metadata": {},
   "source": [
    "All the available attibutes in the given dataset. "
   ]
  },
  {
   "cell_type": "code",
   "execution_count": 160,
   "metadata": {},
   "outputs": [
    {
     "data": {
      "text/plain": [
       "['Ambience',\n",
       " 'BusinessAcceptsBitcoin',\n",
       " 'BusinessAcceptsCreditCards',\n",
       " 'Alcohol',\n",
       " 'HappyHour',\n",
       " 'Open24Hours',\n",
       " 'DietaryRestrictions',\n",
       " 'OutdoorSeating',\n",
       " 'RestaurantsAttire',\n",
       " 'Music',\n",
       " 'NoiseLevel',\n",
       " 'CoatCheck',\n",
       " 'DogsAllowed',\n",
       " 'AcceptsInsurance',\n",
       " 'BusinessParking',\n",
       " 'BYOBCorkage',\n",
       " 'HairSpecializesIn',\n",
       " 'ByAppointmentOnly',\n",
       " 'RestaurantsDelivery',\n",
       " 'HasTV',\n",
       " 'RestaurantsPriceRange2',\n",
       " 'BikeParking',\n",
       " 'DriveThru',\n",
       " 'BYOB',\n",
       " 'Caters',\n",
       " 'Corkage',\n",
       " 'RestaurantsReservations',\n",
       " 'RestaurantsGoodForGroups',\n",
       " 'GoodForKids',\n",
       " 'RestaurantsCounterService',\n",
       " 'RestaurantsTableService',\n",
       " 'RestaurantsTakeOut',\n",
       " 'BestNights',\n",
       " 'Smoking',\n",
       " 'GoodForDancing',\n",
       " 'GoodForMeal',\n",
       " 'AgesAllowed',\n",
       " 'WiFi',\n",
       " 'WheelchairAccessible']"
      ]
     },
     "execution_count": 160,
     "metadata": {},
     "output_type": "execute_result"
    }
   ],
   "source": [
    "attributes = set()\n",
    "for each in raw_data['attributes']:\n",
    "    line = {}\n",
    "    try:\n",
    "        each = eval(each)\n",
    "    except TypeError:\n",
    "        continue\n",
    "    for k in each.keys():\n",
    "        attributes.add(k)\n",
    "        \n",
    "attributes = list(attributes)\n",
    "attributes"
   ]
  },
  {
   "cell_type": "code",
   "execution_count": 161,
   "metadata": {},
   "outputs": [
    {
     "data": {
      "text/plain": [
       "39"
      ]
     },
     "execution_count": 161,
     "metadata": {},
     "output_type": "execute_result"
    }
   ],
   "source": [
    "#Count of attributes \n",
    "\n",
    "len(attributes)"
   ]
  },
  {
   "cell_type": "markdown",
   "metadata": {},
   "source": [
    "Total number of restaurants in the data set"
   ]
  },
  {
   "cell_type": "code",
   "execution_count": 162,
   "metadata": {},
   "outputs": [
    {
     "data": {
      "text/plain": [
       "11072"
      ]
     },
     "execution_count": 162,
     "metadata": {},
     "output_type": "execute_result"
    }
   ],
   "source": [
    "n = raw_data.shape[0]\n",
    "n"
   ]
  },
  {
   "cell_type": "markdown",
   "metadata": {},
   "source": [
    "Not all attributes are present in all restaurants, so lets find out the count of each attribute in all given restaurats"
   ]
  },
  {
   "cell_type": "code",
   "execution_count": 185,
   "metadata": {},
   "outputs": [],
   "source": [
    "attribute_count = defaultdict(int)\n",
    "for each in raw_data['attributes']:\n",
    "#     each = eval(each)\n",
    "    try:\n",
    "        for attribute in attributes:\n",
    "            if attribute in each:\n",
    "                attribute_count[attribute] += 1\n",
    "    except TypeError:\n",
    "        continue\n",
    "# attribute_count  "
   ]
  },
  {
   "cell_type": "code",
   "execution_count": 186,
   "metadata": {},
   "outputs": [
    {
     "data": {
      "text/html": [
       "<div>\n",
       "<style scoped>\n",
       "    .dataframe tbody tr th:only-of-type {\n",
       "        vertical-align: middle;\n",
       "    }\n",
       "\n",
       "    .dataframe tbody tr th {\n",
       "        vertical-align: top;\n",
       "    }\n",
       "\n",
       "    .dataframe thead th {\n",
       "        text-align: right;\n",
       "    }\n",
       "</style>\n",
       "<table border=\"1\" class=\"dataframe\">\n",
       "  <thead>\n",
       "    <tr style=\"text-align: right;\">\n",
       "      <th></th>\n",
       "      <th>count</th>\n",
       "      <th>percent_of_total</th>\n",
       "    </tr>\n",
       "  </thead>\n",
       "  <tbody>\n",
       "    <tr>\n",
       "      <th>BusinessAcceptsCreditCards</th>\n",
       "      <td>10648</td>\n",
       "      <td>0.961705</td>\n",
       "    </tr>\n",
       "    <tr>\n",
       "      <th>RestaurantsPriceRange2</th>\n",
       "      <td>10390</td>\n",
       "      <td>0.938403</td>\n",
       "    </tr>\n",
       "    <tr>\n",
       "      <th>RestaurantsTakeOut</th>\n",
       "      <td>10281</td>\n",
       "      <td>0.928559</td>\n",
       "    </tr>\n",
       "    <tr>\n",
       "      <th>RestaurantsGoodForGroups</th>\n",
       "      <td>10198</td>\n",
       "      <td>0.921062</td>\n",
       "    </tr>\n",
       "    <tr>\n",
       "      <th>GoodForKids</th>\n",
       "      <td>10168</td>\n",
       "      <td>0.918353</td>\n",
       "    </tr>\n",
       "    <tr>\n",
       "      <th>RestaurantsDelivery</th>\n",
       "      <td>10044</td>\n",
       "      <td>0.907153</td>\n",
       "    </tr>\n",
       "    <tr>\n",
       "      <th>RestaurantsReservations</th>\n",
       "      <td>10044</td>\n",
       "      <td>0.907153</td>\n",
       "    </tr>\n",
       "    <tr>\n",
       "      <th>OutdoorSeating</th>\n",
       "      <td>9908</td>\n",
       "      <td>0.894870</td>\n",
       "    </tr>\n",
       "    <tr>\n",
       "      <th>RestaurantsAttire</th>\n",
       "      <td>9902</td>\n",
       "      <td>0.894328</td>\n",
       "    </tr>\n",
       "    <tr>\n",
       "      <th>BusinessParking</th>\n",
       "      <td>9847</td>\n",
       "      <td>0.889361</td>\n",
       "    </tr>\n",
       "    <tr>\n",
       "      <th>GoodForMeal</th>\n",
       "      <td>9843</td>\n",
       "      <td>0.888999</td>\n",
       "    </tr>\n",
       "    <tr>\n",
       "      <th>Alcohol</th>\n",
       "      <td>9366</td>\n",
       "      <td>0.845918</td>\n",
       "    </tr>\n",
       "    <tr>\n",
       "      <th>RestaurantsTableService</th>\n",
       "      <td>9230</td>\n",
       "      <td>0.833634</td>\n",
       "    </tr>\n",
       "    <tr>\n",
       "      <th>Ambience</th>\n",
       "      <td>9092</td>\n",
       "      <td>0.821171</td>\n",
       "    </tr>\n",
       "    <tr>\n",
       "      <th>HasTV</th>\n",
       "      <td>9090</td>\n",
       "      <td>0.820990</td>\n",
       "    </tr>\n",
       "    <tr>\n",
       "      <th>NoiseLevel</th>\n",
       "      <td>8402</td>\n",
       "      <td>0.758851</td>\n",
       "    </tr>\n",
       "    <tr>\n",
       "      <th>WiFi</th>\n",
       "      <td>8334</td>\n",
       "      <td>0.752710</td>\n",
       "    </tr>\n",
       "    <tr>\n",
       "      <th>BikeParking</th>\n",
       "      <td>7843</td>\n",
       "      <td>0.708363</td>\n",
       "    </tr>\n",
       "    <tr>\n",
       "      <th>Caters</th>\n",
       "      <td>7671</td>\n",
       "      <td>0.692829</td>\n",
       "    </tr>\n",
       "    <tr>\n",
       "      <th>WheelchairAccessible</th>\n",
       "      <td>6107</td>\n",
       "      <td>0.551572</td>\n",
       "    </tr>\n",
       "    <tr>\n",
       "      <th>DriveThru</th>\n",
       "      <td>1883</td>\n",
       "      <td>0.170069</td>\n",
       "    </tr>\n",
       "    <tr>\n",
       "      <th>DogsAllowed</th>\n",
       "      <td>1675</td>\n",
       "      <td>0.151283</td>\n",
       "    </tr>\n",
       "    <tr>\n",
       "      <th>HappyHour</th>\n",
       "      <td>1351</td>\n",
       "      <td>0.122020</td>\n",
       "    </tr>\n",
       "    <tr>\n",
       "      <th>GoodForDancing</th>\n",
       "      <td>1261</td>\n",
       "      <td>0.113891</td>\n",
       "    </tr>\n",
       "    <tr>\n",
       "      <th>Music</th>\n",
       "      <td>1259</td>\n",
       "      <td>0.113710</td>\n",
       "    </tr>\n",
       "    <tr>\n",
       "      <th>CoatCheck</th>\n",
       "      <td>1236</td>\n",
       "      <td>0.111633</td>\n",
       "    </tr>\n",
       "    <tr>\n",
       "      <th>Smoking</th>\n",
       "      <td>1172</td>\n",
       "      <td>0.105853</td>\n",
       "    </tr>\n",
       "    <tr>\n",
       "      <th>BestNights</th>\n",
       "      <td>1077</td>\n",
       "      <td>0.097272</td>\n",
       "    </tr>\n",
       "    <tr>\n",
       "      <th>BusinessAcceptsBitcoin</th>\n",
       "      <td>1063</td>\n",
       "      <td>0.096008</td>\n",
       "    </tr>\n",
       "    <tr>\n",
       "      <th>BYOB</th>\n",
       "      <td>665</td>\n",
       "      <td>0.060061</td>\n",
       "    </tr>\n",
       "    <tr>\n",
       "      <th>Corkage</th>\n",
       "      <td>664</td>\n",
       "      <td>0.059971</td>\n",
       "    </tr>\n",
       "    <tr>\n",
       "      <th>BYOBCorkage</th>\n",
       "      <td>662</td>\n",
       "      <td>0.059790</td>\n",
       "    </tr>\n",
       "    <tr>\n",
       "      <th>RestaurantsCounterService</th>\n",
       "      <td>187</td>\n",
       "      <td>0.016889</td>\n",
       "    </tr>\n",
       "    <tr>\n",
       "      <th>ByAppointmentOnly</th>\n",
       "      <td>160</td>\n",
       "      <td>0.014451</td>\n",
       "    </tr>\n",
       "    <tr>\n",
       "      <th>Open24Hours</th>\n",
       "      <td>130</td>\n",
       "      <td>0.011741</td>\n",
       "    </tr>\n",
       "    <tr>\n",
       "      <th>DietaryRestrictions</th>\n",
       "      <td>50</td>\n",
       "      <td>0.004516</td>\n",
       "    </tr>\n",
       "    <tr>\n",
       "      <th>AgesAllowed</th>\n",
       "      <td>20</td>\n",
       "      <td>0.001806</td>\n",
       "    </tr>\n",
       "    <tr>\n",
       "      <th>AcceptsInsurance</th>\n",
       "      <td>7</td>\n",
       "      <td>0.000632</td>\n",
       "    </tr>\n",
       "    <tr>\n",
       "      <th>HairSpecializesIn</th>\n",
       "      <td>2</td>\n",
       "      <td>0.000181</td>\n",
       "    </tr>\n",
       "  </tbody>\n",
       "</table>\n",
       "</div>"
      ],
      "text/plain": [
       "                            count  percent_of_total\n",
       "BusinessAcceptsCreditCards  10648          0.961705\n",
       "RestaurantsPriceRange2      10390          0.938403\n",
       "RestaurantsTakeOut          10281          0.928559\n",
       "RestaurantsGoodForGroups    10198          0.921062\n",
       "GoodForKids                 10168          0.918353\n",
       "RestaurantsDelivery         10044          0.907153\n",
       "RestaurantsReservations     10044          0.907153\n",
       "OutdoorSeating               9908          0.894870\n",
       "RestaurantsAttire            9902          0.894328\n",
       "BusinessParking              9847          0.889361\n",
       "GoodForMeal                  9843          0.888999\n",
       "Alcohol                      9366          0.845918\n",
       "RestaurantsTableService      9230          0.833634\n",
       "Ambience                     9092          0.821171\n",
       "HasTV                        9090          0.820990\n",
       "NoiseLevel                   8402          0.758851\n",
       "WiFi                         8334          0.752710\n",
       "BikeParking                  7843          0.708363\n",
       "Caters                       7671          0.692829\n",
       "WheelchairAccessible         6107          0.551572\n",
       "DriveThru                    1883          0.170069\n",
       "DogsAllowed                  1675          0.151283\n",
       "HappyHour                    1351          0.122020\n",
       "GoodForDancing               1261          0.113891\n",
       "Music                        1259          0.113710\n",
       "CoatCheck                    1236          0.111633\n",
       "Smoking                      1172          0.105853\n",
       "BestNights                   1077          0.097272\n",
       "BusinessAcceptsBitcoin       1063          0.096008\n",
       "BYOB                          665          0.060061\n",
       "Corkage                       664          0.059971\n",
       "BYOBCorkage                   662          0.059790\n",
       "RestaurantsCounterService     187          0.016889\n",
       "ByAppointmentOnly             160          0.014451\n",
       "Open24Hours                   130          0.011741\n",
       "DietaryRestrictions            50          0.004516\n",
       "AgesAllowed                    20          0.001806\n",
       "AcceptsInsurance                7          0.000632\n",
       "HairSpecializesIn               2          0.000181"
      ]
     },
     "execution_count": 186,
     "metadata": {},
     "output_type": "execute_result"
    }
   ],
   "source": [
    "count_df = pd.DataFrame.from_dict(attribute_count, orient='index', columns= ['count'])\n",
    "count_df['percent_of_total'] = count_df['count']/n\n",
    "count_df = count_df.sort_values(by = 'percent_of_total', inplace=False, ascending=False)\n",
    "count_df"
   ]
  },
  {
   "cell_type": "code",
   "execution_count": 206,
   "metadata": {},
   "outputs": [
    {
     "data": {
      "text/plain": [
       "<matplotlib.axes._subplots.AxesSubplot at 0x119d7ca20>"
      ]
     },
     "execution_count": 206,
     "metadata": {},
     "output_type": "execute_result"
    },
    {
     "data": {
      "image/png": "[encoded data removed]",
      "text/plain": [
       "<Figure size 432x288 with 1 Axes>"
      ]
     },
     "metadata": {},
     "output_type": "display_data"
    }
   ],
   "source": [
    "count_df.reset_index().plot.bar(x='index', y='percent_of_total')"
   ]
  },
  {
   "cell_type": "markdown",
   "metadata": {},
   "source": [
    "Looking at the data/plot, makes sense to take attributes with > 50% occurrence"
   ]
  },
  {
   "cell_type": "code",
   "execution_count": 215,
   "metadata": {},
   "outputs": [],
   "source": [
    "attributes = count_df[count_df['percent_of_total']>0.5].index.values.tolist()"
   ]
  },
  {
   "cell_type": "code",
   "execution_count": 224,
   "metadata": {},
   "outputs": [
    {
     "data": {
      "text/plain": [
       "['BusinessAcceptsCreditCards',\n",
       " 'RestaurantsTakeOut',\n",
       " 'RestaurantsGoodForGroups',\n",
       " 'GoodForKids',\n",
       " 'RestaurantsDelivery',\n",
       " 'RestaurantsReservations',\n",
       " 'OutdoorSeating',\n",
       " 'RestaurantsAttire',\n",
       " 'BusinessParking',\n",
       " 'GoodForMeal',\n",
       " 'Alcohol',\n",
       " 'RestaurantsTableService',\n",
       " 'Ambience',\n",
       " 'HasTV',\n",
       " 'NoiseLevel',\n",
       " 'WiFi',\n",
       " 'BikeParking',\n",
       " 'Caters',\n",
       " 'WheelchairAccessible']"
      ]
     },
     "execution_count": 224,
     "metadata": {},
     "output_type": "execute_result"
    }
   ],
   "source": [
    "attributes.remove('RestaurantsPriceRange2')\n",
    "attributes"
   ]
  },
  {
   "cell_type": "markdown",
   "metadata": {},
   "source": [
    "- BusinessAcceptsCreditCards\n",
    "    - True - 1\n",
    "    - False - 0\n",
    "- RestaurantsTakeOut\n",
    "- RestaurantsGoodForGroups\n",
    "     'GoodForKids',\n",
    "     'RestaurantsDelivery',\n",
    "     'RestaurantsReservations',\n",
    "     'OutdoorSeating',\n",
    "     'RestaurantsAttire',\n",
    "     'BusinessParking',\n",
    "     'GoodForMeal',\n",
    "     'Alcohol',\n",
    "     'RestaurantsTableService',\n",
    "     'Ambience',\n",
    "     'HasTV',\n",
    "     'NoiseLevel',\n",
    "     'WiFi',\n",
    "     'BikeParking',\n",
    "     'Caters',\n",
    "     'WheelchairAccessible'"
   ]
  },
  {
   "cell_type": "code",
   "execution_count": 225,
   "metadata": {},
   "outputs": [
    {
     "data": {
      "text/plain": [
       "19"
      ]
     },
     "execution_count": 225,
     "metadata": {},
     "output_type": "execute_result"
    }
   ],
   "source": [
    "check = ['False', 'False', 'False', 'False', 'False', 'False', 'False', 'RestaurantsAttire', 'BusinessParking', \n",
    "         'GoodForMeal', 'none', 'False', 'Ambience', 'False', 'NoiseLevel', 'no', 'False', 'False', \n",
    "         'WheelchairAccessible']"
   ]
  },
  {
   "cell_type": "code",
   "execution_count": 283,
   "metadata": {},
   "outputs": [],
   "source": [
    "def attribute_check(attribute, restaurant, check):\n",
    "    if attribute in restaurant:\n",
    "        if restaurant[attribute] == check:\n",
    "            return 0\n",
    "        else:\n",
    "            return 1\n",
    "    else:\n",
    "        return 0"
   ]
  },
  {
   "cell_type": "code",
   "execution_count": 317,
   "metadata": {},
   "outputs": [],
   "source": []
  },
  {
   "cell_type": "code",
   "execution_count": 324,
   "metadata": {},
   "outputs": [],
   "source": [
    "dframe = pd.DataFrame(columns=attributes)\n",
    "\n",
    "for index, row in raw_data.iterrows():\n",
    "#     print(index)\n",
    "    try:\n",
    "        each = eval(row['attributes'])\n",
    "        line = {}\n",
    "        line['rating'] = row['stars']\n",
    "        for i in range(len(attributes)):\n",
    "            line[attributes[i]] = attribute_check(attributes[i], each, check[i])\n",
    "        temp_df = pd.DataFrame([line])\n",
    "        dframe = dframe.append(temp_df, ignore_index=True, sort=False)\n",
    "\n",
    "    except TypeError:\n",
    "        continue"
   ]
  },
  {
   "cell_type": "code",
   "execution_count": 325,
   "metadata": {},
   "outputs": [
    {
     "data": {
      "text/html": [
       "<div>\n",
       "<style scoped>\n",
       "    .dataframe tbody tr th:only-of-type {\n",
       "        vertical-align: middle;\n",
       "    }\n",
       "\n",
       "    .dataframe tbody tr th {\n",
       "        vertical-align: top;\n",
       "    }\n",
       "\n",
       "    .dataframe thead th {\n",
       "        text-align: right;\n",
       "    }\n",
       "</style>\n",
       "<table border=\"1\" class=\"dataframe\">\n",
       "  <thead>\n",
       "    <tr style=\"text-align: right;\">\n",
       "      <th></th>\n",
       "      <th>BusinessAcceptsCreditCards</th>\n",
       "      <th>RestaurantsTakeOut</th>\n",
       "      <th>RestaurantsGoodForGroups</th>\n",
       "      <th>GoodForKids</th>\n",
       "      <th>RestaurantsDelivery</th>\n",
       "      <th>RestaurantsReservations</th>\n",
       "      <th>OutdoorSeating</th>\n",
       "      <th>RestaurantsAttire</th>\n",
       "      <th>BusinessParking</th>\n",
       "      <th>GoodForMeal</th>\n",
       "      <th>Alcohol</th>\n",
       "      <th>RestaurantsTableService</th>\n",
       "      <th>Ambience</th>\n",
       "      <th>HasTV</th>\n",
       "      <th>NoiseLevel</th>\n",
       "      <th>WiFi</th>\n",
       "      <th>BikeParking</th>\n",
       "      <th>Caters</th>\n",
       "      <th>WheelchairAccessible</th>\n",
       "      <th>rating</th>\n",
       "    </tr>\n",
       "  </thead>\n",
       "  <tbody>\n",
       "    <tr>\n",
       "      <th>10934</th>\n",
       "      <td>1</td>\n",
       "      <td>1</td>\n",
       "      <td>1</td>\n",
       "      <td>1</td>\n",
       "      <td>0</td>\n",
       "      <td>0</td>\n",
       "      <td>0</td>\n",
       "      <td>1</td>\n",
       "      <td>1</td>\n",
       "      <td>1</td>\n",
       "      <td>0</td>\n",
       "      <td>1</td>\n",
       "      <td>1</td>\n",
       "      <td>1</td>\n",
       "      <td>1</td>\n",
       "      <td>1</td>\n",
       "      <td>0</td>\n",
       "      <td>1</td>\n",
       "      <td>1</td>\n",
       "      <td>3.0</td>\n",
       "    </tr>\n",
       "    <tr>\n",
       "      <th>10935</th>\n",
       "      <td>1</td>\n",
       "      <td>0</td>\n",
       "      <td>1</td>\n",
       "      <td>1</td>\n",
       "      <td>0</td>\n",
       "      <td>1</td>\n",
       "      <td>0</td>\n",
       "      <td>1</td>\n",
       "      <td>1</td>\n",
       "      <td>1</td>\n",
       "      <td>1</td>\n",
       "      <td>1</td>\n",
       "      <td>1</td>\n",
       "      <td>0</td>\n",
       "      <td>1</td>\n",
       "      <td>0</td>\n",
       "      <td>0</td>\n",
       "      <td>1</td>\n",
       "      <td>1</td>\n",
       "      <td>4.0</td>\n",
       "    </tr>\n",
       "    <tr>\n",
       "      <th>10936</th>\n",
       "      <td>1</td>\n",
       "      <td>1</td>\n",
       "      <td>1</td>\n",
       "      <td>1</td>\n",
       "      <td>1</td>\n",
       "      <td>1</td>\n",
       "      <td>0</td>\n",
       "      <td>1</td>\n",
       "      <td>1</td>\n",
       "      <td>1</td>\n",
       "      <td>0</td>\n",
       "      <td>1</td>\n",
       "      <td>1</td>\n",
       "      <td>1</td>\n",
       "      <td>0</td>\n",
       "      <td>1</td>\n",
       "      <td>0</td>\n",
       "      <td>1</td>\n",
       "      <td>1</td>\n",
       "      <td>4.5</td>\n",
       "    </tr>\n",
       "    <tr>\n",
       "      <th>10937</th>\n",
       "      <td>1</td>\n",
       "      <td>1</td>\n",
       "      <td>1</td>\n",
       "      <td>1</td>\n",
       "      <td>0</td>\n",
       "      <td>1</td>\n",
       "      <td>1</td>\n",
       "      <td>1</td>\n",
       "      <td>1</td>\n",
       "      <td>1</td>\n",
       "      <td>1</td>\n",
       "      <td>1</td>\n",
       "      <td>1</td>\n",
       "      <td>1</td>\n",
       "      <td>1</td>\n",
       "      <td>1</td>\n",
       "      <td>1</td>\n",
       "      <td>0</td>\n",
       "      <td>0</td>\n",
       "      <td>3.0</td>\n",
       "    </tr>\n",
       "    <tr>\n",
       "      <th>10938</th>\n",
       "      <td>0</td>\n",
       "      <td>0</td>\n",
       "      <td>0</td>\n",
       "      <td>0</td>\n",
       "      <td>0</td>\n",
       "      <td>0</td>\n",
       "      <td>0</td>\n",
       "      <td>0</td>\n",
       "      <td>0</td>\n",
       "      <td>0</td>\n",
       "      <td>0</td>\n",
       "      <td>0</td>\n",
       "      <td>0</td>\n",
       "      <td>0</td>\n",
       "      <td>0</td>\n",
       "      <td>0</td>\n",
       "      <td>0</td>\n",
       "      <td>0</td>\n",
       "      <td>0</td>\n",
       "      <td>3.0</td>\n",
       "    </tr>\n",
       "  </tbody>\n",
       "</table>\n",
       "</div>"
      ],
      "text/plain": [
       "      BusinessAcceptsCreditCards RestaurantsTakeOut RestaurantsGoodForGroups  \\\n",
       "10934                          1                  1                        1   \n",
       "10935                          1                  0                        1   \n",
       "10936                          1                  1                        1   \n",
       "10937                          1                  1                        1   \n",
       "10938                          0                  0                        0   \n",
       "\n",
       "      GoodForKids RestaurantsDelivery RestaurantsReservations OutdoorSeating  \\\n",
       "10934           1                   0                       0              0   \n",
       "10935           1                   0                       1              0   \n",
       "10936           1                   1                       1              0   \n",
       "10937           1                   0                       1              1   \n",
       "10938           0                   0                       0              0   \n",
       "\n",
       "      RestaurantsAttire BusinessParking GoodForMeal Alcohol  \\\n",
       "10934                 1               1           1       0   \n",
       "10935                 1               1           1       1   \n",
       "10936                 1               1           1       0   \n",
       "10937                 1               1           1       1   \n",
       "10938                 0               0           0       0   \n",
       "\n",
       "      RestaurantsTableService Ambience HasTV NoiseLevel WiFi BikeParking  \\\n",
       "10934                       1        1     1          1    1           0   \n",
       "10935                       1        1     0          1    0           0   \n",
       "10936                       1        1     1          0    1           0   \n",
       "10937                       1        1     1          1    1           1   \n",
       "10938                       0        0     0          0    0           0   \n",
       "\n",
       "      Caters WheelchairAccessible  rating  \n",
       "10934      1                    1     3.0  \n",
       "10935      1                    1     4.0  \n",
       "10936      1                    1     4.5  \n",
       "10937      0                    0     3.0  \n",
       "10938      0                    0     3.0  "
      ]
     },
     "execution_count": 325,
     "metadata": {},
     "output_type": "execute_result"
    }
   ],
   "source": [
    "dframe.tail()"
   ]
  },
  {
   "cell_type": "markdown",
   "metadata": {},
   "source": [
    "## Model Building"
   ]
  },
  {
   "cell_type": "code",
   "execution_count": 341,
   "metadata": {},
   "outputs": [],
   "source": [
    "import numpy as np\n",
    "from sklearn import linear_model\n",
    "from sklearn.metrics import mean_squared_error, r2_score\n",
    "import seaborn as sns; sns.set()\n",
    "\n",
    "from sklearn.model_selection import train_test_split\n",
    "\n"
   ]
  },
  {
   "cell_type": "code",
   "execution_count": 342,
   "metadata": {},
   "outputs": [],
   "source": [
    "train, test = train_test_split(dframe, test_size=0.2)\n"
   ]
  },
  {
   "cell_type": "code",
   "execution_count": 347,
   "metadata": {},
   "outputs": [],
   "source": [
    "X_train = train.loc[:, dframe.columns != 'rating']\n",
    "y_train = train['rating']\n",
    "\n",
    "X_test = test.loc[:, dframe.columns != 'rating']\n",
    "y_test = test['rating']"
   ]
  },
  {
   "cell_type": "code",
   "execution_count": 348,
   "metadata": {},
   "outputs": [],
   "source": [
    "# Create linear regression object\n",
    "regr = linear_model.LinearRegression()\n",
    "\n",
    "# Train the model using the training sets\n",
    "regr.fit(X_train, y_train)\n",
    "\n",
    "# Make predictions using the testing set\n",
    "y_pred = regr.predict(X_test)"
   ]
  },
  {
   "cell_type": "code",
   "execution_count": null,
   "metadata": {},
   "outputs": [],
   "source": []
  },
  {
   "cell_type": "code",
   "execution_count": 362,
   "metadata": {},
   "outputs": [
    {
     "name": "stdout",
     "output_type": "stream",
     "text": [
      "Coefficients: \n",
      " [-0.16110127 -0.11479896  0.03831608  0.01961375  0.01967237  0.08722792\n",
      "  0.12477999 -0.45377189  0.21464319  0.04257535  0.01321527  0.05737472\n",
      "  0.01790806  0.03405232 -0.07677148  0.01423198  0.13070073  0.21677773\n",
      "  0.25966804]\n",
      "Mean squared error: 0.57\n",
      "Variance score: 0.13\n"
     ]
    },
    {
     "data": {
      "image/png": "[encoded data removed]",
      "text/plain": [
       "<Figure size 432x288 with 1 Axes>"
      ]
     },
     "metadata": {},
     "output_type": "display_data"
    }
   ],
   "source": [
    "# The coefficients\n",
    "print('Coefficients: \\n', regr.coef_)\n",
    "# The mean squared error\n",
    "print(\"Mean squared error: %.2f\"\n",
    "      % mean_squared_error(y_test, y_pred))\n",
    "# Explained variance score: 1 is perfect prediction\n",
    "print('Variance score: %.2f' % r2_score(y_test, y_pred))\n",
    "\n",
    "# Plot outputs\n",
    "plt.plot(X_test, y_pred, color='blue', linewidth=3)\n",
    "\n",
    "plt.xticks(())\n",
    "plt.yticks(())\n",
    "\n",
    "plt.show()"
   ]
  },
  {
   "cell_type": "code",
   "execution_count": 360,
   "metadata": {},
   "outputs": [
    {
     "name": "stdout",
     "output_type": "stream",
     "text": [
      "OutdoorSeating\n",
      "BusinessParking\n",
      "BikeParking\n",
      "Caters\n",
      "WheelchairAccessible\n"
     ]
    }
   ],
   "source": [
    "for i in range(len(attributes)):\n",
    "    if regr.coef_[i] > 0.1:\n",
    "        print(attributes[i])"
   ]
  },
  {
   "cell_type": "code",
   "execution_count": null,
   "metadata": {},
   "outputs": [],
   "source": []
  },
  {
   "cell_type": "code",
   "execution_count": null,
   "metadata": {},
   "outputs": [],
   "source": []
  },
  {
   "cell_type": "code",
   "execution_count": null,
   "metadata": {},
   "outputs": [],
   "source": []
  }
 ],
 "metadata": {
  "kernelspec": {
   "display_name": "Python 3",
   "language": "python",
   "name": "python3"
  },
  "language_info": {
   "codemirror_mode": {
    "name": "ipython",
    "version": 3
   },
   "file_extension": ".py",
   "mimetype": "text/x-python",
   "name": "python",
   "nbconvert_exporter": "python",
   "pygments_lexer": "ipython3",
   "version": "3.6.5"
  }
 },
 "nbformat": 4,
 "nbformat_minor": 2
}
